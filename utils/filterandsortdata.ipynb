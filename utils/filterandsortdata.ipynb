{
 "cells": [
  {
   "cell_type": "code",
   "execution_count": 12,
   "metadata": {},
   "outputs": [],
   "source": [
    "import pandas as pd\n",
    "import numpy as np\n",
    "import os\n",
    "import re"
   ]
  },
  {
   "cell_type": "code",
   "execution_count": 13,
   "metadata": {},
   "outputs": [
    {
     "name": "stdout",
     "output_type": "stream",
     "text": [
      "['Jawa.csv', 'kalimantan.csv', 'Lengkap.csv', 'tabel_data.csv']\n"
     ]
    }
   ],
   "source": [
    "path=\"../data/\"\n",
    "print([i for i in os.listdir(path) if i.endswith(\"csv\")])"
   ]
  },
  {
   "cell_type": "code",
   "execution_count": 14,
   "metadata": {},
   "outputs": [
    {
     "data": {
      "text/plain": [
       "Index(['Wilayah', 'Komposit', 'NCPR', 'Kemiskinan (%)',\n",
       "       'Pengeluaran Pangan (%)', 'Tanpa Listrik (%)', 'Tanpa Air Bersih (%)',\n",
       "       'Lama Sekolah Perempuan (tahun)', 'Rasio Tenaga Kesehatan',\n",
       "       'Angka Harapan Hidup (tahun)', 'Stunting (%)', 'IKP', 'IKP Ranking',\n",
       "       'Unnamed: 13'],\n",
       "      dtype='object')"
      ]
     },
     "execution_count": 14,
     "metadata": {},
     "output_type": "execute_result"
    }
   ],
   "source": [
    "targetcol=[\"Wilayah\", \"NCPR\", \"Kemiskinan (%)\", \"Pengeluaran Pangan (%)\", \"Stunting (%)\", \"Tanpa Listrik (%)\"]\n",
    "df=pd.read_csv(path+'tabel_data.csv')\n",
    "df.columns\n",
    "#df[targetcol].to_csv(path+\"Lengkap.csv\", index=False)"
   ]
  },
  {
   "cell_type": "markdown",
   "metadata": {},
   "source": [
    "#Get java and bali Only!"
   ]
  },
  {
   "cell_type": "code",
   "execution_count": 10,
   "metadata": {},
   "outputs": [],
   "source": [
    "#temp=[\"dki jakarta\", \"jawa\", \"yogyakarta\", \"banten\", \"bali\"]\n",
    "temp=[\"kalimantan\"]\n",
    "target=[]\n",
    "for i in df[\"Wilayah\"].to_numpy():\n",
    "    for j in temp:\n",
    "        if re.search(f'{j} ', i, flags=re.IGNORECASE):\n",
    "            target.append(i)\n",
    "df=df[df[\"Wilayah\"].isin(target)][targetcol]"
   ]
  },
  {
   "cell_type": "code",
   "execution_count": 11,
   "metadata": {},
   "outputs": [],
   "source": [
    "df.to_csv(path+\"kalimantan.csv\", index=False)"
   ]
  }
 ],
 "metadata": {
  "kernelspec": {
   "display_name": "Python 3",
   "language": "python",
   "name": "python3"
  },
  "language_info": {
   "codemirror_mode": {
    "name": "ipython",
    "version": 3
   },
   "file_extension": ".py",
   "mimetype": "text/x-python",
   "name": "python",
   "nbconvert_exporter": "python",
   "pygments_lexer": "ipython3",
   "version": "3.11.7"
  }
 },
 "nbformat": 4,
 "nbformat_minor": 2
}
